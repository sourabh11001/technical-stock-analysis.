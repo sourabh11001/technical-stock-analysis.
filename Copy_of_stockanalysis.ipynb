{
  "nbformat": 4,
  "nbformat_minor": 0,
  "metadata": {
    "colab": {
      "provenance": []
    },
    "kernelspec": {
      "name": "python3",
      "display_name": "Python 3"
    },
    "language_info": {
      "name": "python"
    }
  },
  "cells": [
    {
      "cell_type": "code",
      "source": [
        "!pip install yfinance pandas numpy matplotlib seaborn plotly\n"
      ],
      "metadata": {
        "id": "OTri80hQ9Nhi"
      },
      "execution_count": null,
      "outputs": []
    },
    {
      "cell_type": "code",
      "source": [
        "import pandas as pd\n",
        "import numpy as np\n",
        "import matplotlib.pyplot as plt\n",
        "import seaborn as sns\n",
        "import yfinance as yf\n"
      ],
      "metadata": {
        "id": "Z48eW38x9R73"
      },
      "execution_count": 2,
      "outputs": []
    },
    {
      "cell_type": "code",
      "source": [
        "def calculate_moving_averages(data: pd.DataFrame) -> pd.DataFrame:\n",
        "    data[\"SMA20\"] = data[\"Close\"].rolling(window=20).mean()\n",
        "    data[\"SMA50\"] = data[\"Close\"].rolling(window=50).mean()\n",
        "    return data\n",
        "\n",
        "def calculate_volatility(data: pd.DataFrame) -> pd.DataFrame:\n",
        "    data[\"Volatility\"] = data[\"Daily Return\"].rolling(window=20).std()\n",
        "    return data\n",
        "\n",
        "def calculate_rsi(data: pd.DataFrame) -> pd.DataFrame:\n",
        "    close = data[\"Close\"]\n",
        "    delta = close.diff()\n",
        "\n",
        "    gain = delta.clip(lower=0)\n",
        "    loss = -delta.clip(upper=0)\n",
        "\n",
        "    # SMA RSI\n",
        "    roll_up = gain.rolling(14).mean()\n",
        "    roll_down = loss.rolling(14).mean()\n",
        "    RS = roll_up / roll_down\n",
        "    data[\"RSI\"] = 100 - (100 / (1 + RS))\n",
        "\n",
        "    # EMA RSI\n",
        "    roll_up_ema = gain.ewm(span=14, adjust=False).mean()\n",
        "    roll_down_ema = loss.ewm(span=14, adjust=False).mean()\n",
        "    RS_ema = roll_up_ema / roll_down_ema\n",
        "    data[\"RSI_EMA\"] = 100 - (100 / (1 + RS_ema))\n",
        "\n",
        "    return data\n"
      ],
      "metadata": {
        "id": "xxLF5KaM9edD"
      },
      "execution_count": 3,
      "outputs": []
    },
    {
      "cell_type": "code",
      "source": [
        "def fetch_data(ticker=\"INFY.NS\", period=\"1y\"):\n",
        "    data = yf.download(ticker, period=period)\n",
        "    data = data.ffill()\n",
        "    data.index = pd.to_datetime(data.index)\n",
        "    data[\"Daily Return\"] = data[\"Close\"].pct_change()\n",
        "    return data\n",
        "\n",
        "ticker = \"INFY.NS\"   # You can change this (e.g., \"AAPL\", \"TSLA\", \"RELIANCE.NS\")\n",
        "period = \"1y\"\n",
        "\n",
        "data = fetch_data(ticker, period)\n",
        "data = calculate_moving_averages(data)\n",
        "data = calculate_volatility(data)\n",
        "data = calculate_rsi(data)\n",
        "\n",
        "data.head()\n"
      ],
      "metadata": {
        "id": "eLQrk05s9hJH"
      },
      "execution_count": null,
      "outputs": []
    },
    {
      "cell_type": "code",
      "source": [
        "plt.figure(figsize=(12,6))\n",
        "plt.plot(data.index, data[\"Close\"], label=\"Close\", color=\"blue\")\n",
        "plt.plot(data.index, data[\"SMA20\"], label=\"20-Day SMA\", color=\"orange\")\n",
        "plt.plot(data.index, data[\"SMA50\"], label=\"50-Day SMA\", color=\"red\")\n",
        "plt.title(f\"{ticker} Stock with Moving Averages\")\n",
        "plt.xlabel(\"Date\")\n",
        "plt.ylabel(\"Price\")\n",
        "plt.legend()\n",
        "plt.grid(True)\n",
        "plt.show()\n"
      ],
      "metadata": {
        "id": "c3pCxZ2D9lix"
      },
      "execution_count": null,
      "outputs": []
    },
    {
      "cell_type": "code",
      "source": [
        "plt.figure(figsize=(10,5))\n",
        "sns.histplot(data[\"Daily Return\"].dropna(), bins=50, kde=True, color=\"purple\")\n",
        "plt.title(f\"{ticker} - Daily Returns Distribution\")\n",
        "plt.xlabel(\"Daily Return\")\n",
        "plt.ylabel(\"Frequency\")\n",
        "plt.show()\n"
      ],
      "metadata": {
        "id": "ObT7R-Ey9p0r"
      },
      "execution_count": null,
      "outputs": []
    },
    {
      "cell_type": "code",
      "source": [
        "plt.figure(figsize=(12,6))\n",
        "plt.plot(data.index, data[\"RSI\"], label=\"RSI (SMA)\", color=\"purple\")\n",
        "plt.plot(data.index, data[\"RSI_EMA\"], label=\"RSI (EMA)\", color=\"blue\")\n",
        "plt.axhline(70, linestyle=\"--\", color=\"red\", alpha=0.7)\n",
        "plt.axhline(30, linestyle=\"--\", color=\"green\", alpha=0.7)\n",
        "plt.title(f\"{ticker} - RSI (Relative Strength Index)\")\n",
        "plt.legend()\n",
        "plt.show()\n"
      ],
      "metadata": {
        "id": "NEpvxvZs9tOo"
      },
      "execution_count": null,
      "outputs": []
    }
  ]
}